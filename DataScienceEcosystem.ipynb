{
 "cells": [
  {
   "cell_type": "markdown",
   "id": "b47cbde2-9640-4ef3-9512-d5db5e6f3dc0",
   "metadata": {},
   "source": [
    "# Data Science Tools and Ecosystem"
   ]
  },
  {
   "cell_type": "markdown",
   "id": "066251bb-0aa1-4f41-b414-c2996c1b62b0",
   "metadata": {},
   "source": [
    "In this notebook, Data Science Tools and Ecosystem are summarized and captured."
   ]
  },
  {
   "cell_type": "markdown",
   "id": "bebeb226-309a-4b16-8b8d-4d7f262615e5",
   "metadata": {},
   "source": [
    "**Objectives:**\n",
    "\n",
    "- List popular languages for Data Science  \n",
    "- List commonly used libraries in Data Science  \n",
    "- Create tables using markdown  \n",
    "- Perform arithmetic operations in Python  \n",
    "- Convert units using Python code"
   ]
  },
  {
   "cell_type": "markdown",
   "id": "e0f854a0-3e3c-493e-8daf-89c77f313594",
   "metadata": {},
   "source": [
    "Some of the popular languages that Data Scientists use are:\n",
    "\n",
    "1. SQL\n",
    "2. Python\n",
    "3. R\n",
    "4. Julia"
   ]
  },
  {
   "cell_type": "markdown",
   "id": "4787c8e2-070f-4eef-b519-4d2111a5e77a",
   "metadata": {},
   "source": [
    "Some of the commonly used libraries used by Data Scientists include:\n",
    "\n",
    "1. NumPy  \n",
    "2. Pandas  \n",
    "3. Matplotlib"
   ]
  },
  {
   "cell_type": "markdown",
   "id": "edfe198c-39dd-4138-9087-747b486973cb",
   "metadata": {},
   "source": [
    "| Data Science Tools          |\n",
    "|----------------------------|\n",
    "| Anaconda           |\n",
    "| JupyterLab                    |\n",
    "| Google Colaboratory            |"
   ]
  },
  {
   "cell_type": "markdown",
   "id": "40fde202-63c8-4b7f-9273-79b36ef4884f",
   "metadata": {},
   "source": [
    "### Below are a few examples of evaluating arithmetic expressions in Python."
   ]
  },
  {
   "cell_type": "code",
   "execution_count": 2,
   "id": "be51623f-8fe8-4f95-bdd7-f119d6acdb8e",
   "metadata": {},
   "outputs": [
    {
     "data": {
      "text/plain": [
       "17"
      ]
     },
     "execution_count": 2,
     "metadata": {},
     "output_type": "execute_result"
    }
   ],
   "source": [
    "# This is a simple arithmetic expression to multiply then add integers\n",
    "(3 * 4) + 5"
   ]
  },
  {
   "cell_type": "code",
   "execution_count": 3,
   "id": "4be554b8-c05d-4fb4-a69b-eebcfb76f7a5",
   "metadata": {},
   "outputs": [
    {
     "data": {
      "text/plain": [
       "3.3333333333333335"
      ]
     },
     "execution_count": 3,
     "metadata": {},
     "output_type": "execute_result"
    }
   ],
   "source": [
    "# This will convert 200 minutes to hours by dividing by 60\n",
    "200 / 60"
   ]
  },
  {
   "cell_type": "markdown",
   "id": "70ec4c1c-e053-4574-b082-9ae8b0afbf13",
   "metadata": {},
   "source": [
    "## Author\n",
    "\n",
    "Lori Bruski"
   ]
  },
  {
   "cell_type": "code",
   "execution_count": null,
   "id": "480bed65-18e0-4f77-840a-8033c6b69b1b",
   "metadata": {},
   "outputs": [],
   "source": []
  }
 ],
 "metadata": {
  "kernelspec": {
   "display_name": "Python 3 (ipykernel)",
   "language": "python",
   "name": "python3"
  },
  "language_info": {
   "codemirror_mode": {
    "name": "ipython",
    "version": 3
   },
   "file_extension": ".py",
   "mimetype": "text/x-python",
   "name": "python",
   "nbconvert_exporter": "python",
   "pygments_lexer": "ipython3",
   "version": "3.12.8"
  }
 },
 "nbformat": 4,
 "nbformat_minor": 5
}
